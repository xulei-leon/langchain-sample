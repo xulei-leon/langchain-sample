{
 "cells": [
  {
   "cell_type": "markdown",
   "metadata": {},
   "source": [
    "## Lib import"
   ]
  },
  {
   "cell_type": "code",
   "execution_count": null,
   "metadata": {},
   "outputs": [],
   "source": [
    "import os\n",
    "from typing import List, Literal, Annotated\n",
    "from typing_extensions import TypedDict\n",
    "from pydantic import BaseModel, Field\n",
    "\n",
    "from langchain import PromptTemplate, LLMChain\n",
    "from langchain import hub\n",
    "from langchain_openai import ChatOpenAI\n",
    "from langchain_core.tools import tool\n",
    "from langchain_core.prompts import ChatPromptTemplate\n",
    "from langchain_core.output_parsers import StrOutputParser\n",
    "from langchain_core.messages import BaseMessage, HumanMessage, AIMessage, SystemMessage\n",
    "from langchain_community.tools.tavily_search import TavilySearchResults\n",
    "from langchain_chroma import Chroma\n",
    "from langchain_text_splitters import TokenTextSplitter\n",
    "from langchain.text_splitter import RecursiveCharacterTextSplitter\n",
    "from langchain.document_loaders import DirectoryLoader\n",
    "from langchain_community.document_loaders import UnstructuredHTMLLoader\n",
    "from langchain.schema import Document\n",
    "from langchain_community.retrievers import TavilySearchAPIRetriever\n",
    "from langchain_huggingface import HuggingFaceEmbeddings\n",
    "\n",
    "from langgraph.graph import START, END, MessagesState, StateGraph\n",
    "from langgraph.checkpoint.memory import MemorySaver, InMemorySaver\n",
    "from langgraph.graph import START, END, MessagesState, StateGraph\n",
    "from langgraph.checkpoint.memory import InMemorySaver"
   ]
  },
  {
   "cell_type": "markdown",
   "metadata": {},
   "source": [
    "## API key get"
   ]
  },
  {
   "cell_type": "code",
   "execution_count": null,
   "metadata": {},
   "outputs": [],
   "source": [
    "from dotenv import load_dotenv\n",
    "load_dotenv()\n",
    "\n",
    "deepseek_api_key = os.getenv(\"DEEPSEEK_API_KEY\")\n",
    "silicon_api_key = os.getenv(\"SILICON_API_KEY\")\n",
    "tavily_api_key = os.getenv(\"TAVILY_API_KEY\")"
   ]
  },
  {
   "cell_type": "code",
   "execution_count": null,
   "metadata": {},
   "outputs": [],
   "source": [
    "# silicon\n",
    "silicon_base_url =  \"https://api.siliconflow.cn/v1\"\n",
    "silicon_llm_model = \"deepseek-ai/DeepSeek-R1-Distill-Llama-8B\"\n",
    "\n",
    "# huggingface\n",
    "huggingface_embed_model = \"sentence-transformers/all-MiniLM-L6-v2\""
   ]
  },
  {
   "cell_type": "markdown",
   "metadata": {},
   "source": [
    "## LLM Init"
   ]
  },
  {
   "cell_type": "code",
   "execution_count": null,
   "metadata": {},
   "outputs": [],
   "source": [
    "# init LLM mod\n",
    "llm = ChatOpenAI(\n",
    "    model=silicon_llm_model,\n",
    "    openai_api_key=silicon_api_key,\n",
    "    base_url=silicon_base_url,\n",
    "    temperature=1.2,\n",
    "    max_tokens=2048,\n",
    ")"
   ]
  },
  {
   "cell_type": "markdown",
   "metadata": {},
   "source": [
    "## Vector"
   ]
  },
  {
   "cell_type": "code",
   "execution_count": null,
   "metadata": {},
   "outputs": [],
   "source": [
    "root_path = '../'\n",
    "WEB_DATA_DIR = os.path.join(root_path, \"downloads/website\")\n",
    "VECTOR_STORE_DIR = os.path.join(root_path, \"var/vector\")"
   ]
  },
  {
   "cell_type": "code",
   "execution_count": null,
   "metadata": {},
   "outputs": [],
   "source": [
    "import chromadb\n",
    "from chromadb.config import Settings\n",
    "\n",
    "html_directory = WEB_DATA_DIR\n",
    "persist_directory = VECTOR_STORE_DIR\n",
    "collection_id = \"calerie-health\"\n",
    "tenant_id = \"agent_tenant\"\n",
    "\n",
    "################################################################################\n",
    "## Config embeddings model\n",
    "################################################################################\n",
    "print(f\"Create HuggingFaceEmbeddings {huggingface_embed_model}\")\n",
    "embeddings = HuggingFaceEmbeddings(model_name=huggingface_embed_model)\n",
    "\n",
    "def vector_create(persist_directory):\n",
    "    # load\n",
    "    loader = DirectoryLoader(\n",
    "        path=html_directory, glob=\"**/*.html\", loader_cls=UnstructuredHTMLLoader\n",
    "    )\n",
    "\n",
    "    documents = loader.load()\n",
    "\n",
    "    # split\n",
    "    text_splitter = RecursiveCharacterTextSplitter(chunk_size=512, chunk_overlap=100)\n",
    "    all_splits = text_splitter.split_documents(documents)\n",
    "\n",
    "    vectordb = Chroma.from_documents(\n",
    "        documents=documents,\n",
    "        collection_name=collection_id,\n",
    "        embedding=embeddings,\n",
    "        persist_directory=persist_directory\n",
    "    )\n",
    "\n",
    "    # Index chunks\n",
    "    _ = vectordb.add_documents(documents=all_splits)\n",
    "\n",
    "    # Also add the original documents\n",
    "    # _ = vectordb.add_documents(documents=documents)\n",
    "\n",
    "    return vectordb\n",
    "\n",
    "\n",
    "def vector_get(persist_directory):\n",
    "    vectordb = Chroma(\n",
    "        collection_name=collection_id,\n",
    "        embedding_function=embeddings,\n",
    "        persist_directory=persist_directory,\n",
    "    )\n",
    "    return vectordb\n",
    "\n",
    "\n",
    "################################################################################\n",
    "## Creat vector store\n",
    "################################################################################\n",
    "if os.path.exists(persist_directory):\n",
    "    print(f\"Get Vector store from {persist_directory}\")\n",
    "    vector_store = vector_get(persist_directory=persist_directory)\n",
    "else:\n",
    "    print(f\"Create Vector store to {persist_directory}\")\n",
    "    # os.makedirs(persist_directory)\n",
    "    vector_store = vector_create(persist_directory=persist_directory)\n",
    "    print(f\"Create Vector finish.\")"
   ]
  },
  {
   "cell_type": "code",
   "execution_count": null,
   "metadata": {},
   "outputs": [],
   "source": [
    "retriever = vector_store.as_retriever(\n",
    "    search_type=\"similarity_score_threshold\",\n",
    "    search_kwargs={\"score_threshold\": 0.5, \"k\": 1}\n",
    ")"
   ]
  },
  {
   "cell_type": "code",
   "execution_count": null,
   "metadata": {},
   "outputs": [],
   "source": [
    "retriever.invoke(\"What are the ingredients in Alpha Hope?\")"
   ]
  }
 ],
 "metadata": {
  "kernelspec": {
   "display_name": "Python 3 (ipykernel)",
   "language": "python",
   "name": "python3"
  },
  "language_info": {
   "codemirror_mode": {
    "name": "ipython",
    "version": 3
   },
   "file_extension": ".py",
   "mimetype": "text/x-python",
   "name": "python",
   "nbconvert_exporter": "python",
   "pygments_lexer": "ipython3",
   "version": "3.12.9"
  }
 },
 "nbformat": 4,
 "nbformat_minor": 4
}
