{
 "cells": [
  {
   "cell_type": "markdown",
   "metadata": {
    "vscode": {
     "languageId": "plaintext"
    }
   },
   "source": [
    "# Langgraph RAG"
   ]
  },
  {
   "cell_type": "markdown",
   "metadata": {},
   "source": [
    "## Lib import"
   ]
  },
  {
   "cell_type": "code",
   "execution_count": null,
   "metadata": {},
   "outputs": [],
   "source": [
    "import os\n",
    "import logging\n",
    "import operator\n",
    "from typing import List, Literal, Annotated, Optional, Union, Any\n",
    "from typing_extensions import TypedDict\n",
    "import chromadb\n",
    "from chromadb.config import Settings\n",
    "from pydantic import BaseModel, Field, validator\n",
    "\n",
    "from langchain import PromptTemplate, LLMChain\n",
    "from langchain import hub\n",
    "from langchain_openai import ChatOpenAI\n",
    "from langchain_deepseek import ChatDeepSeek\n",
    "from langchain_core.tools import tool\n",
    "from langchain_core.prompts import ChatPromptTemplate\n",
    "from langchain_core.output_parsers import StrOutputParser, JsonOutputParser\n",
    "from langchain_core.messages import BaseMessage, HumanMessage, AIMessage, SystemMessage\n",
    "from langchain_core.runnables import (\n",
    "    Runnable,\n",
    "    RunnableLambda,\n",
    "    RunnablePassthrough,\n",
    "    RunnableSerializable,\n",
    ")\n",
    "from langchain_community.tools.tavily_search import TavilySearchResults\n",
    "from langchain_chroma import Chroma\n",
    "from langchain_text_splitters import TokenTextSplitter\n",
    "from langchain.text_splitter import RecursiveCharacterTextSplitter\n",
    "from langchain.document_loaders import DirectoryLoader\n",
    "from langchain_community.document_loaders import UnstructuredHTMLLoader\n",
    "from langchain.schema import Document\n",
    "from langchain_community.retrievers import TavilySearchAPIRetriever\n",
    "from langchain_huggingface import HuggingFaceEmbeddings\n",
    "\n",
    "from langgraph.graph import START, END, MessagesState, StateGraph\n",
    "from langgraph.checkpoint.memory import MemorySaver, InMemorySaver\n",
    "from langgraph.graph import START, END, MessagesState, StateGraph\n",
    "from langgraph.checkpoint.memory import InMemorySaver"
   ]
  },
  {
   "cell_type": "markdown",
   "metadata": {},
   "source": [
    "## Init config and API key"
   ]
  },
  {
   "cell_type": "code",
   "execution_count": null,
   "metadata": {},
   "outputs": [],
   "source": [
    "#\n",
    "# key\n",
    "#\n",
    "from dotenv import load_dotenv\n",
    "\n",
    "load_dotenv()\n",
    "\n",
    "deepseek_api_key = os.getenv(\"DEEPSEEK_API_KEY\")\n",
    "silicon_api_key = os.getenv(\"SILICON_API_KEY\")\n",
    "tavily_api_key = os.getenv(\"TAVILY_API_KEY\")\n",
    "linkup_api_key = os.getenv(\"LINKUP_API_KEY\")"
   ]
  },
  {
   "cell_type": "code",
   "execution_count": null,
   "metadata": {},
   "outputs": [],
   "source": [
    "#\n",
    "# config\n",
    "#\n",
    "import tomllib\n",
    "\n",
    "\n",
    "def load_config(config_file):\n",
    "    try:\n",
    "        with open(config_file, \"rb\") as f:\n",
    "            config = tomllib.load(f)\n",
    "            return config\n",
    "    except Exception as e:\n",
    "        print(f\"Load config file error: {e}\")\n",
    "        return None\n",
    "\n",
    "\n",
    "# load config file\n",
    "deepseek_llm_model = None\n",
    "silicon_base_url = None\n",
    "silicon_llm_model = None\n",
    "huggingface_embed_model = None\n",
    "\n",
    "config_data = load_config(\"../config/config.toml\")\n",
    "if config_data:\n",
    "    log_level = config_data.get(\"log_level\")\n",
    "    if log_level:\n",
    "        logging.basicConfig(level=log_level)\n",
    "\n",
    "    # deepseek\n",
    "    deepseek_llm_model = config_data.get(\"deepseek\", {}).get(\"model\")\n",
    "    deepseek_llm_temperature = config_data.get(\"deepseek\", {}).get(\"temperature\")\n",
    "    deepseek_llm_max_tokens = config_data.get(\"deepseek\", {}).get(\"max_tokens\")\n",
    "\n",
    "    # silicon\n",
    "    silicon_base_url = config_data.get(\"silicon\", {}).get(\"base_url\")\n",
    "    silicon_llm_model = config_data.get(\"silicon\", {}).get(\"model\")\n",
    "\n",
    "    # huggingface\n",
    "    huggingface_embed_model = config_data.get(\"huggingface\", {}).get(\"embed_model\")\n",
    "\n",
    "\n",
    "# deepseek\n",
    "deepseek_llm_model = deepseek_llm_model or \"deepseek-chat\"\n",
    "\n",
    "# silicon\n",
    "silicon_base_url = silicon_base_url or \"https://api.siliconflow.cn/v1\"\n",
    "silicon_llm_model = silicon_llm_model or \"deepseek-ai/DeepSeek-R1-Distill-Llama-8B\"\n",
    "\n",
    "# huggingface\n",
    "huggingface_embed_model = (\n",
    "    huggingface_embed_model or \"sentence-transformers/all-MiniLM-L6-v2\"\n",
    ")"
   ]
  },
  {
   "cell_type": "markdown",
   "metadata": {},
   "source": [
    "## LLM Init"
   ]
  },
  {
   "cell_type": "code",
   "execution_count": null,
   "metadata": {},
   "outputs": [],
   "source": [
    "# init LLM mod\n",
    "llm_deepseek = ChatDeepSeek(\n",
    "    model=deepseek_llm_model,\n",
    "    temperature=deepseek_llm_temperature or 0.3,\n",
    "    max_tokens=deepseek_llm_max_tokens,\n",
    "    timeout=None,\n",
    "    top_p=0.9,\n",
    "    frequency_penalty=0.7,\n",
    "    presence_penalty=0.5,\n",
    "    max_retries=3,\n",
    ")"
   ]
  },
  {
   "cell_type": "markdown",
   "metadata": {},
   "source": [
    "## LLM functions"
   ]
  },
  {
   "cell_type": "markdown",
   "metadata": {},
   "source": [
    "### Question Re-writer"
   ]
  },
  {
   "cell_type": "markdown",
   "metadata": {},
   "source": [
    "## RAG Graph"
   ]
  },
  {
   "cell_type": "code",
   "execution_count": null,
   "metadata": {},
   "outputs": [],
   "source": [
    "################################################################################\n",
    "### RAG state\n",
    "################################################################################\n",
    "class RagState(TypedDict):\n",
    "    question: str\n",
    "    answer: str\n",
    "    retrieves: List\n",
    "    web_searchs: List\n",
    "    #documents: Annotated[list, operator.add]"
   ]
  },
  {
   "cell_type": "code",
   "execution_count": null,
   "metadata": {},
   "outputs": [],
   "source": [
    "################################################################################\n",
    "### RAG nodes\n",
    "################################################################################\n",
    "def node_rewrite_qestion(state: RagState):\n",
    "    question = state[\"question\"]\n",
    "\n",
    "    # Re-write question\n",
    "    # better_question = question_rewriter.invoke({\"question\": question})\n",
    "\n",
    "    return {\"question\": better_question or question}\n",
    "\n",
    "\n",
    "def node_retrieve(state: RagState):\n",
    "    question = state[\"question\"]\n",
    "    retrieves = []\n",
    "\n",
    "    # Retrieval\n",
    "    # retrieves = retriever.invoke(question)\n",
    "    return {\"retrieves\": retrieves}\n",
    "\n",
    "\n",
    "def node_retrieve_grade(state: RagState):\n",
    "    question = state[\"question\"]\n",
    "    retrieves = state[\"retrieves\"]\n",
    "\n",
    "    # Score each doc\n",
    "    filtered_docs = []\n",
    "    for d in retrieves:\n",
    "        # grade = retrieval_grader.invoke(\n",
    "        #    {\"question\": question, \"document\": d.page_content}\n",
    "        # )\n",
    "\n",
    "        if grade is None:\n",
    "            grade = {\"score\": 5}\n",
    "\n",
    "        score = grade.score\n",
    "        if score >= 5:\n",
    "            d.metadata[\"relevance_score\"] = score\n",
    "            filtered_docs.append(d)\n",
    "\n",
    "    return {\"retrieves\": filtered_docs}\n",
    "\n",
    "def node_web_search(state: RagState):\n",
    "    question = state[\"question\"]\n",
    "\n",
    "    # Web search\n",
    "    docs = []\n",
    "    # docs = web_search_tool.invoke({\"query\": question})\n",
    "    web_results = \"\\n\".join([d[\"content\"] for d in docs])\n",
    "    web_results = Document(page_content=web_results)\n",
    "\n",
    "    return {\"web_searchs\": web_results}\n",
    "\n",
    "def node_generate(state: RagState):\n",
    "    question = state[\"question\"]\n",
    "    retrieves = state[\"retrieves\"]\n",
    "    web_searchs = state[\"web_searchs\"]\n",
    "\n",
    "    # generation\n",
    "    generation = \"\"\n",
    "\n",
    "    return {\"answer\": generation}"
   ]
  },
  {
   "cell_type": "code",
   "execution_count": null,
   "metadata": {},
   "outputs": [],
   "source": [
    "################################################################################\n",
    "### Edges conditional functions\n",
    "################################################################################\n",
    "def condition_retrieve(state: RagState):\n",
    "    question = state[\"question\"]\n",
    "    retrieves = state[\"retrieves\"]\n",
    "\n",
    "    if retrieves:\n",
    "        return \"success\"\n",
    "    else:\n",
    "        return \"failure\"\n",
    "\n",
    "\n",
    "def condition_retrieve_grade(state: RagState):\n",
    "    question = state[\"question\"]\n",
    "    retrieves = state[\"retrieves\"]\n",
    "\n",
    "    if not retrieves:\n",
    "        return \"irrelevant\"\n",
    "    \n",
    "    for d in retrieves:\n",
    "        if not d.metadata[\"relevance_score\"]: continue\n",
    "        if d.metadata[\"relevance_score\"] >= 7:\n",
    "            return \"relevant\"\n",
    "       \n",
    "    return \"somewhat\""
   ]
  },
  {
   "cell_type": "code",
   "execution_count": null,
   "metadata": {},
   "outputs": [],
   "source": [
    "def build_rag_graph():\n",
    "    ################################################################################\n",
    "    ### Create Graph\n",
    "    ################################################################################\n",
    "    workflow = StateGraph(RagState)\n",
    "\n",
    "    ################################################################################\n",
    "    ### Add nodes\n",
    "    ################################################################################\n",
    "    workflow.add_node(\"rewrite_qestion\", node_rewrite_qestion)\n",
    "    workflow.add_node(\"retrieve\", node_retrieve)\n",
    "    workflow.add_node(\"retrieve_grade\", node_retrieve_grade)\n",
    "    workflow.add_node(\"web_search\", node_web_search)\n",
    "    workflow.add_node(\"generate\", node_generate)\n",
    "\n",
    "    ################################################################################\n",
    "    ### Add edges\n",
    "    ################################################################################\n",
    "    ## rewrite qestion\n",
    "    workflow.add_edge(START, \"rewrite_qestion\")\n",
    "    workflow.add_edge(\"rewrite_qestion\", \"retrieve\")\n",
    "\n",
    "    ## retrieve\n",
    "    workflow.add_conditional_edges(\n",
    "        \"retrieve\",\n",
    "        condition_retrieve,\n",
    "        {\n",
    "            \"success\": \"retrieve_grade\",\n",
    "            \"failure\": \"web_search\",\n",
    "        },\n",
    "    )\n",
    "    workflow.add_conditional_edges(\n",
    "        \"retrieve_grade\",\n",
    "        condition_retrieve_grade,\n",
    "        {\n",
    "            \"relevant\": \"generate\",\n",
    "            \"somewhat\": \"web_search\",\n",
    "            \"irrelevant\": \"web_search\",\n",
    "        },\n",
    "    )\n",
    "\n",
    "    ## web_search\n",
    "    workflow.add_edge(\"web_search\", \"generate\")\n",
    "\n",
    "    ## generate\n",
    "    workflow.add_edge(\"generate\", END)\n",
    "\n",
    "    return workflow.compile()"
   ]
  },
  {
   "cell_type": "code",
   "execution_count": null,
   "metadata": {},
   "outputs": [],
   "source": [
    "\n",
    "################################################################################\n",
    "### Build RAG Graph\n",
    "################################################################################\n",
    "rag_graph = build_rag_graph()"
   ]
  },
  {
   "cell_type": "code",
   "execution_count": null,
   "metadata": {},
   "outputs": [],
   "source": [
    "from IPython.display import Image, display\n",
    "\n",
    "display(Image(rag_graph.get_graph().draw_mermaid_png()))"
   ]
  },
  {
   "cell_type": "markdown",
   "metadata": {},
   "source": [
    "## Test"
   ]
  },
  {
   "cell_type": "code",
   "execution_count": null,
   "metadata": {},
   "outputs": [],
   "source": []
  }
 ],
 "metadata": {
  "kernelspec": {
   "display_name": "Python 3 (ipykernel)",
   "language": "python",
   "name": "python3"
  },
  "language_info": {
   "codemirror_mode": {
    "name": "ipython",
    "version": 3
   },
   "file_extension": ".py",
   "mimetype": "text/x-python",
   "name": "python",
   "nbconvert_exporter": "python",
   "pygments_lexer": "ipython3",
   "version": "3.12.9"
  }
 },
 "nbformat": 4,
 "nbformat_minor": 4
}
