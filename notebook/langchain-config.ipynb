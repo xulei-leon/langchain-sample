{
 "cells": [
  {
   "cell_type": "markdown",
   "metadata": {
    "vscode": {
     "languageId": "plaintext"
    }
   },
   "source": [
    "# Langgraph Reducer"
   ]
  },
  {
   "cell_type": "markdown",
   "metadata": {},
   "source": [
    "## Lib import"
   ]
  },
  {
   "cell_type": "code",
   "execution_count": null,
   "metadata": {},
   "outputs": [],
   "source": [
    "import os\n",
    "import logging\n",
    "from typing import List, Literal, Annotated, Optional, Union\n",
    "from typing_extensions import TypedDict\n",
    "import chromadb\n",
    "from chromadb.config import Settings\n",
    "from pydantic import BaseModel, Field, validator\n",
    "\n",
    "from langchain import PromptTemplate, LLMChain\n",
    "from langchain import hub\n",
    "from langchain_openai import ChatOpenAI\n",
    "from langchain_deepseek import ChatDeepSeek\n",
    "from langchain_core.tools import tool\n",
    "from langchain_core.prompts import ChatPromptTemplate\n",
    "from langchain_core.output_parsers import StrOutputParser, JsonOutputParser\n",
    "from langchain_core.messages import BaseMessage, HumanMessage, AIMessage, SystemMessage\n",
    "from langchain_core.runnables import RunnableSerializable\n",
    "from langchain_community.tools.tavily_search import TavilySearchResults\n",
    "from langchain_chroma import Chroma\n",
    "from langchain_text_splitters import TokenTextSplitter\n",
    "from langchain.text_splitter import RecursiveCharacterTextSplitter\n",
    "from langchain.document_loaders import DirectoryLoader\n",
    "from langchain_community.document_loaders import UnstructuredHTMLLoader\n",
    "from langchain.schema import Document\n",
    "from langchain_community.retrievers import TavilySearchAPIRetriever\n",
    "from langchain_huggingface import HuggingFaceEmbeddings\n",
    "\n",
    "from langgraph.graph import START, END, MessagesState, StateGraph\n",
    "from langgraph.checkpoint.memory import MemorySaver, InMemorySaver\n",
    "from langgraph.graph import START, END, MessagesState, StateGraph\n",
    "from langgraph.checkpoint.memory import InMemorySaver"
   ]
  },
  {
   "cell_type": "markdown",
   "metadata": {},
   "source": [
    "## Init config and API key"
   ]
  },
  {
   "cell_type": "code",
   "execution_count": null,
   "metadata": {},
   "outputs": [],
   "source": [
    "#\n",
    "# key\n",
    "#\n",
    "from dotenv import load_dotenv\n",
    "load_dotenv()\n",
    "\n",
    "deepseek_api_key = os.getenv(\"DEEPSEEK_API_KEY\")\n",
    "silicon_api_key = os.getenv(\"SILICON_API_KEY\")\n",
    "tavily_api_key = os.getenv(\"TAVILY_API_KEY\")"
   ]
  },
  {
   "cell_type": "code",
   "execution_count": null,
   "metadata": {},
   "outputs": [],
   "source": [
    "#\n",
    "# config\n",
    "#\n",
    "import tomllib\n",
    "def load_config(config_file):\n",
    "    try:\n",
    "        with open(config_file, 'rb') as f:\n",
    "            config = tomllib.load(f)\n",
    "            return config\n",
    "    except Exception as e:\n",
    "        print(f\"Load config file error: {e}\")\n",
    "        return None\n",
    "\n",
    "# load config file\n",
    "deepseek_llm_model = None\n",
    "silicon_base_url = None\n",
    "silicon_llm_model = None\n",
    "huggingface_embed_model = None\n",
    "\n",
    "config_data = load_config(\"../config/config.toml\")\n",
    "if config_data:\n",
    "    log_level = config_data.get('log_level')\n",
    "    if log_level:\n",
    "        logging.basicConfig(level=log_level)\n",
    "    \n",
    "    # deepseek\n",
    "    deepseek_llm_model = config_data.get('deepseek', {}).get('model')\n",
    "    deepseek_llm_temperature = config_data.get('deepseek', {}).get('temperature')\n",
    "    deepseek_llm_max_tokens = config_data.get('deepseek', {}).get('max_tokens')  \n",
    "\n",
    "    # silicon\n",
    "    silicon_base_url =  config_data.get('silicon', {}).get('base_url')\n",
    "    silicon_llm_model = config_data.get('silicon', {}).get('model')\n",
    "\n",
    "    # huggingface\n",
    "    huggingface_embed_model = config_data.get('huggingface', {}).get('embed_model')\n",
    "\n",
    "\n",
    "# deepseek\n",
    "deepseek_llm_model = deepseek_llm_model or \"deepseek-chat\"\n",
    "\n",
    "# silicon\n",
    "silicon_base_url =  silicon_base_url or \"https://api.siliconflow.cn/v1\"\n",
    "silicon_llm_model = silicon_llm_model or \"deepseek-ai/DeepSeek-R1-Distill-Llama-8B\"\n",
    "\n",
    "# huggingface\n",
    "huggingface_embed_model = huggingface_embed_model or \"sentence-transformers/all-MiniLM-L6-v2\""
   ]
  },
  {
   "cell_type": "markdown",
   "metadata": {},
   "source": [
    "## LLM Init"
   ]
  },
  {
   "cell_type": "code",
   "execution_count": null,
   "metadata": {},
   "outputs": [],
   "source": [
    "# init LLM mod\n",
    "llm_deepseek = ChatDeepSeek(\n",
    "    model=deepseek_llm_model,\n",
    "    temperature=deepseek_llm_temperature or 0.3,\n",
    "    max_tokens=deepseek_llm_max_tokens,\n",
    "    timeout=None,\n",
    "    top_p=0.9,\n",
    "    frequency_penalty=0.7,\n",
    "    presence_penalty=0.5,\n",
    "    max_retries=3\n",
    ")"
   ]
  }
 ],
 "metadata": {
  "kernelspec": {
   "display_name": "Python 3 (ipykernel)",
   "language": "python",
   "name": "python3"
  },
  "language_info": {
   "codemirror_mode": {
    "name": "ipython",
    "version": 3
   },
   "file_extension": ".py",
   "mimetype": "text/x-python",
   "name": "python",
   "nbconvert_exporter": "python",
   "pygments_lexer": "ipython3",
   "version": "3.12.9"
  }
 },
 "nbformat": 4,
 "nbformat_minor": 4
}
