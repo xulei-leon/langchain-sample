{
 "cells": [
  {
   "cell_type": "markdown",
   "metadata": {
    "vscode": {
     "languageId": "plaintext"
    }
   },
   "source": [
    "# Langgraph router example"
   ]
  },
  {
   "cell_type": "markdown",
   "metadata": {},
   "source": [
    "## Lib import"
   ]
  },
  {
   "cell_type": "code",
   "execution_count": null,
   "metadata": {
    "vscode": {
     "languageId": "plaintext"
    }
   },
   "outputs": [],
   "source": [
    "import os\n",
    "import logging\n",
    "from typing import List, Literal, Annotated, Optional, Union\n",
    "from typing_extensions import TypedDict\n",
    "import chromadb\n",
    "from chromadb.config import Settings\n",
    "from pydantic import BaseModel, Field, validator\n",
    "\n",
    "from langchain import PromptTemplate, LLMChain\n",
    "from langchain import hub\n",
    "from langchain_openai import ChatOpenAI\n",
    "from langchain_deepseek import ChatDeepSeek\n",
    "from langchain_core.tools import tool\n",
    "from langchain_core.prompts import ChatPromptTemplate\n",
    "from langchain_core.output_parsers import StrOutputParser, JsonOutputParser\n",
    "from langchain_core.messages import BaseMessage, HumanMessage, AIMessage, SystemMessage\n",
    "from langchain_core.runnables import RunnableSerializable\n",
    "from langchain_community.tools.tavily_search import TavilySearchResults\n",
    "from langchain_chroma import Chroma\n",
    "from langchain_text_splitters import TokenTextSplitter\n",
    "from langchain.text_splitter import RecursiveCharacterTextSplitter\n",
    "from langchain.document_loaders import DirectoryLoader\n",
    "from langchain_community.document_loaders import UnstructuredHTMLLoader\n",
    "from langchain.schema import Document\n",
    "from langchain_community.retrievers import TavilySearchAPIRetriever\n",
    "from langchain_huggingface import HuggingFaceEmbeddings\n",
    "\n",
    "from langgraph.graph import START, END, MessagesState, StateGraph\n",
    "from langgraph.checkpoint.memory import MemorySaver, InMemorySaver"
   ]
  },
  {
   "cell_type": "markdown",
   "metadata": {},
   "source": [
    "## Init and API key"
   ]
  },
  {
   "cell_type": "code",
   "execution_count": null,
   "metadata": {
    "vscode": {
     "languageId": "plaintext"
    }
   },
   "outputs": [],
   "source": [
    "from dotenv import load_dotenv\n",
    "load_dotenv()\n",
    "\n",
    "# key\n",
    "deepseek_api_key = os.getenv(\"DEEPSEEK_API_KEY\")\n",
    "silicon_api_key = os.getenv(\"SILICON_API_KEY\")\n",
    "tavily_api_key = os.getenv(\"TAVILY_API_KEY\")\n",
    "\n",
    "# deepseek\n",
    "deepseek_llm_model = \"deepseek-chat\"\n",
    "\n",
    "# silicon\n",
    "silicon_base_url =  \"https://api.siliconflow.cn/v1\"\n",
    "silicon_llm_model = \"deepseek-ai/DeepSeek-R1-Distill-Llama-8B\"\n",
    "\n",
    "# huggingface\n",
    "huggingface_embed_model = \"sentence-transformers/all-MiniLM-L6-v2\""
   ]
  },
  {
   "cell_type": "code",
   "execution_count": null,
   "metadata": {},
   "outputs": [],
   "source": [
    "logging.basicConfig(level=logging.INFO)"
   ]
  },
  {
   "cell_type": "markdown",
   "metadata": {},
   "source": [
    "## LLM Init"
   ]
  },
  {
   "cell_type": "code",
   "execution_count": null,
   "metadata": {},
   "outputs": [],
   "source": [
    "# init deepseek LLM model\n",
    "llm_deepseek = ChatDeepSeek(\n",
    "    model=deepseek_llm_model,\n",
    "    temperature=0.3,\n",
    "    max_tokens=None,\n",
    "    timeout=None,\n",
    "    top_p=0.9,\n",
    "    frequency_penalty=0.7,\n",
    "    presence_penalty=0.5,\n",
    "    max_retries=3\n",
    ")"
   ]
  },
  {
   "cell_type": "markdown",
   "metadata": {},
   "source": [
    "## Deepseek Question Router"
   ]
  },
  {
   "cell_type": "code",
   "execution_count": null,
   "metadata": {},
   "outputs": [],
   "source": [
    "################################################################################\n",
    "### Question Router\n",
    "################################################################################\n",
    "class QuestionRouter:\n",
    "    \"\"\"\n",
    "    LLM Router.\n",
    "    Route a user query to the most relevant datasource.\n",
    "    \"\"\"\n",
    "\n",
    "    def __init__(\n",
    "        self,\n",
    "        llm: RunnableSerializable,\n",
    "    ):\n",
    "        self.schema = self._default_schema()\n",
    "        self.system_prompt = self._default_system_prompt()\n",
    "        self.chain = self._build_chain(llm)\n",
    "    \n",
    "    @staticmethod\n",
    "    def _default_schema():\n",
    "        class RouteSchema(BaseModel):\n",
    "            datasource: Literal[\"web_search\", \"vectorstore\"] = Field(\n",
    "                default=\"web_search\",\n",
    "                description=\"The chosen route based on the question.\",\n",
    "                examples=[\"web_search\", \"vectorstore\"],\n",
    "            )\n",
    "            \n",
    "        return RouteSchema\n",
    "    \n",
    "    @staticmethod\n",
    "    def _default_system_prompt():\n",
    "        role = \"\"\"\n",
    "            \\rRole: Route Expert\n",
    "            \\rTask: Routing a user question to a vectorstore or web search\n",
    "            \\r\n",
    "            \\rGuidelines:\n",
    "            \\rThe vectorstore contains documents related to Calerie Health and the healthcare products it produces.\n",
    "            \\rUse the vectorstore for questions on these topics. Otherwise, use web-search.\n",
    "        \"\"\"\n",
    "\n",
    "        respond_request = \"\"\"\n",
    "            \\rCurrent Scenario: Rapid Response Mode\n",
    "        \"\"\"\n",
    "\n",
    "        response_format = \"\"\"\n",
    "            \\rPlease return to the chosen route based on the question.\n",
    "            \\rNo explanations or additional text.\n",
    "        \"\"\"\n",
    "    \n",
    "        return f\"{role}\\n{respond_request}\\n{response_format}\"\n",
    "    \n",
    "    def _build_chain(self, llm: RunnableSerializable) -> RunnableSerializable:\n",
    "        structured_llm = llm.with_structured_output(self.schema)\n",
    "        \n",
    "        prompt_template = ChatPromptTemplate.from_messages([\n",
    "            (\"system\", self.system_prompt),\n",
    "            (\"human\", \"User question: {question}\")\n",
    "        ])\n",
    "        \n",
    "        return prompt_template | structured_llm\n",
    "    \n",
    "    def invoke(\n",
    "        self,\n",
    "        question: str,\n",
    "        **kwargs\n",
    "    ) -> Union[str, dict]:\n",
    "        inputs = {\n",
    "            \"question\": question,\n",
    "            **kwargs\n",
    "        }\n",
    "        return self.chain.invoke(inputs)"
   ]
  },
  {
   "cell_type": "markdown",
   "metadata": {},
   "source": [
    "## Test Router"
   ]
  },
  {
   "cell_type": "code",
   "execution_count": null,
   "metadata": {},
   "outputs": [],
   "source": [
    "question_router = QuestionRouter(llm=llm_deepseek)\n",
    "\n",
    "question = \"What are the ingredients in Alpha Hope?\"\n",
    "print(f\"question: {question}\")\n",
    "print(f\"route: {question_router.invoke({\"question\": question})}\")\n",
    "print(\"\\n\")\n",
    "\n",
    "question = \"What are the active ingredients that provide anti-aging benefits to the human body?\"\n",
    "print(f\"question: {question}\")\n",
    "print(f\"route: {question_router.invoke({\"question\": question})}\")\n",
    "print(\"\\n\")\n",
    "\n",
    "question = \"Please describe how exercise is good for my health?\"\n",
    "print(f\"question: {question}\")\n",
    "print(f\"route: {question_router.invoke({\"question\": question})}\")"
   ]
  }
 ],
 "metadata": {
  "kernelspec": {
   "display_name": "Python 3 (ipykernel)",
   "language": "python",
   "name": "python3"
  },
  "language_info": {
   "codemirror_mode": {
    "name": "ipython",
    "version": 3
   },
   "file_extension": ".py",
   "mimetype": "text/x-python",
   "name": "python",
   "nbconvert_exporter": "python",
   "pygments_lexer": "ipython3",
   "version": "3.12.9"
  }
 },
 "nbformat": 4,
 "nbformat_minor": 4
}
