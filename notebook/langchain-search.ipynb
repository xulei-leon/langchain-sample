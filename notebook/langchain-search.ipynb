{
 "cells": [
  {
   "cell_type": "markdown",
   "metadata": {},
   "source": [
    "## Lib"
   ]
  },
  {
   "cell_type": "code",
   "execution_count": null,
   "metadata": {},
   "outputs": [],
   "source": [
    "import os\n",
    "from typing import List, Literal, Annotated\n",
    "from typing_extensions import TypedDict\n",
    "from pydantic import BaseModel, Field\n",
    "\n",
    "from langchain import PromptTemplate, LLMChain\n",
    "from langchain import hub\n",
    "from langchain_openai import ChatOpenAI\n",
    "from langchain_core.tools import tool\n",
    "from langchain_core.prompts import ChatPromptTemplate\n",
    "from langchain_core.output_parsers import StrOutputParser\n",
    "from langchain_core.messages import BaseMessage, HumanMessage, AIMessage, SystemMessage\n",
    "from langchain_community.tools.tavily_search import TavilySearchResults\n",
    "from langchain_chroma import Chroma\n",
    "from langchain_text_splitters import TokenTextSplitter\n",
    "from langchain.text_splitter import RecursiveCharacterTextSplitter\n",
    "from langchain.document_loaders import DirectoryLoader\n",
    "from langchain_community.document_loaders import UnstructuredHTMLLoader\n",
    "from langchain.schema import Document\n",
    "from langchain_community.retrievers import TavilySearchAPIRetriever\n",
    "\n",
    "from langgraph.graph import START, END, MessagesState, StateGraph\n",
    "from langgraph.checkpoint.memory import MemorySaver, InMemorySaver\n",
    "from langgraph.graph import START, END, MessagesState, StateGraph\n",
    "from langgraph.checkpoint.memory import InMemorySaver"
   ]
  },
  {
   "cell_type": "markdown",
   "metadata": {},
   "source": [
    "## API key get"
   ]
  },
  {
   "cell_type": "code",
   "execution_count": null,
   "metadata": {},
   "outputs": [],
   "source": [
    "from dotenv import load_dotenv\n",
    "load_dotenv()\n",
    "\n",
    "tavily_api_key = os.getenv(\"TAVILY_API_KEY\")\n",
    "silicon_api_key = os.getenv(\"SILICON_API_KEY\")"
   ]
  },
  {
   "cell_type": "markdown",
   "metadata": {},
   "source": [
    "## LLM"
   ]
  },
  {
   "cell_type": "code",
   "execution_count": null,
   "metadata": {},
   "outputs": [],
   "source": [
    "# get silicon api key\n",
    "silicon_base_url =  \"https://api.siliconflow.cn/v1\"\n",
    "silicon_llm_model = \"deepseek-ai/DeepSeek-R1-Distill-Llama-8B\"\n",
    "\n",
    "\n",
    "# init LLM mod\n",
    "llm = ChatOpenAI(\n",
    "    model=silicon_llm_model,\n",
    "    openai_api_key=silicon_api_key,\n",
    "    base_url=silicon_base_url,\n",
    "    temperature=1.2,\n",
    "    max_tokens=2048,\n",
    ")"
   ]
  },
  {
   "cell_type": "markdown",
   "metadata": {},
   "source": [
    "## TavilySearchAPIRetriever: langgraph node"
   ]
  },
  {
   "cell_type": "code",
   "execution_count": null,
   "metadata": {},
   "outputs": [],
   "source": [
    "web_retriever = TavilySearchAPIRetriever(api_key=tavily_api_key, k=3)\n",
    "\n",
    "question = \"Describe the health benefits of taking vitamins?\"\n",
    "\n",
    "# return Document\n",
    "docs = web_retriever.invoke(question)\n",
    "for doc in docs:\n",
    "    print(\"=== web search ===\")\n",
    "    print(f\"page_content: {doc.page_content}\")\n",
    "    print(f\"metadata: {doc.metadata}\")\n",
    "    print(\"\\n\")"
   ]
  },
  {
   "cell_type": "markdown",
   "metadata": {},
   "source": [
    "## WikipediaRetriever: ?"
   ]
  },
  {
   "cell_type": "code",
   "execution_count": null,
   "metadata": {},
   "outputs": [],
   "source": [
    "from langchain_community.retrievers import WikipediaRetriever\n",
    "\n",
    "wiki_retriever = WikipediaRetriever()\n",
    "\n",
    "question = \"Describe the health benefits of taking vitamins?\"\n",
    "# return Document\n",
    "docs = wiki_retriever.invoke(question)\n",
    "for doc in docs:\n",
    "    print(\"=== Wikipedia search ===\")\n",
    "    print(f\"page_content: {doc.page_content}\")\n",
    "    print(f\"metadata: {doc.metadata}\")\n",
    "    print(\"\\n\")"
   ]
  },
  {
   "cell_type": "markdown",
   "metadata": {},
   "source": [
    "# PubMed: biomedical literature\n",
    "The information content of the query is not suitable for use in general health quiz application scenarios."
   ]
  },
  {
   "cell_type": "code",
   "execution_count": null,
   "metadata": {},
   "outputs": [],
   "source": [
    "!pip install xmltodict"
   ]
  },
  {
   "cell_type": "code",
   "execution_count": null,
   "metadata": {},
   "outputs": [],
   "source": [
    "from langchain_community.retrievers import PubMedRetriever\n",
    "\n",
    "med_retriever = PubMedRetriever()\n",
    "\n",
    "question = \"Describe the health benefits of taking vitamins?\"\n",
    "# return Document\n",
    "docs = med_retriever.invoke(question)\n",
    "for doc in docs:\n",
    "    print(\"=== PubMed search ===\")\n",
    "    print(f\"page_content: {doc.page_content}\")\n",
    "    print(\"\\n\")\n",
    "    print(f\"metadata: {doc.metadata}\")\n",
    "    print(\"\\n\")"
   ]
  },
  {
   "cell_type": "markdown",
   "metadata": {},
   "source": [
    "## TavilySearchResults: do not use it"
   ]
  },
  {
   "cell_type": "code",
   "execution_count": null,
   "metadata": {},
   "outputs": [],
   "source": [
    "# Web search\n",
    "web_search_tool = TavilySearchResults(\n",
    "    api_key = tavily_api_key,\n",
    "    k=3,\n",
    "    #include_domains=[\"wikipedia.org\"],\n",
    "    #search_depth=\"advanced\",\n",
    "    include_answer=True,\n",
    "    #verbose=True\n",
    ")\n",
    "\n",
    "question = \"Describe the health benefits of taking vitamins?\"\n",
    "#docs = web_search_tool.invoke({\"query\": question})\n",
    "docs = web_search_tool.invoke(question)\n",
    "for result in docs:\n",
    "    print(\"=== web search ===\")\n",
    "    print(f\"url: {result['url']}\")\n",
    "    print(f\"content: {result['content']}\")\n",
    "    if \"answer\" in result:\n",
    "        print(f\"answer: {result['answer']}\")\n",
    "    print(\"\\n\")\n",
    "\n",
    "web_results = \"\\n\".join([d[\"content\"] for d in docs])\n",
    "documents = Document(page_content=web_results)\n",
    "print(f\"{documents.page_content}\")\n"
   ]
  },
  {
   "cell_type": "markdown",
   "metadata": {},
   "source": [
    "## RetrievalQA: langchain"
   ]
  },
  {
   "cell_type": "code",
   "execution_count": null,
   "metadata": {},
   "outputs": [],
   "source": [
    "from langchain.chains import RetrievalQA\n",
    "\n",
    "web_retriever = TavilySearchAPIRetriever(api_key=tavily_api_key, k=3)\n",
    "\n",
    "qa_chain = RetrievalQA.from_chain_type(\n",
    "    llm=llm,\n",
    "    retriever=web_retriever,\n",
    "    chain_type=\"stuff\"\n",
    ")\n",
    "\n",
    "question = \"Describe the health benefits of taking vitamins?\"\n",
    "response = qa_chain.invoke(question)\n",
    "#print(response)\n",
    "print(response[\"result\"])"
   ]
  }
 ],
 "metadata": {
  "kernelspec": {
   "display_name": "Python 3 (ipykernel)",
   "language": "python",
   "name": "python3"
  },
  "language_info": {
   "codemirror_mode": {
    "name": "ipython",
    "version": 3
   },
   "file_extension": ".py",
   "mimetype": "text/x-python",
   "name": "python",
   "nbconvert_exporter": "python",
   "pygments_lexer": "ipython3",
   "version": "3.12.9"
  }
 },
 "nbformat": 4,
 "nbformat_minor": 4
}
