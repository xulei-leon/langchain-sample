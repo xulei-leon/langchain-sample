{
 "cells": [
  {
   "cell_type": "markdown",
   "metadata": {},
   "source": [
    "## Lib"
   ]
  },
  {
   "cell_type": "code",
   "execution_count": null,
   "metadata": {},
   "outputs": [],
   "source": [
    "import os\n",
    "import logging\n",
    "from typing import List, Literal, Annotated, Optional, Union, Any\n",
    "from typing_extensions import TypedDict\n",
    "import chromadb\n",
    "from chromadb.config import Settings\n",
    "from pydantic import BaseModel, Field, validator\n",
    "\n",
    "from langchain import PromptTemplate, LLMChain\n",
    "from langchain import hub\n",
    "from langchain_openai import ChatOpenAI\n",
    "from langchain_deepseek import ChatDeepSeek\n",
    "from langchain_core.tools import tool\n",
    "from langchain_core.prompts import ChatPromptTemplate\n",
    "from langchain_core.output_parsers import StrOutputParser, JsonOutputParser\n",
    "from langchain_core.messages import BaseMessage, HumanMessage, AIMessage, SystemMessage\n",
    "from langchain_core.runnables import Runnable, RunnableLambda, RunnablePassthrough, RunnableSerializable\n",
    "from langchain_community.tools.tavily_search import TavilySearchResults\n",
    "from langchain_chroma import Chroma\n",
    "from langchain_text_splitters import TokenTextSplitter\n",
    "from langchain.text_splitter import RecursiveCharacterTextSplitter\n",
    "from langchain.document_loaders import DirectoryLoader\n",
    "from langchain_community.document_loaders import UnstructuredHTMLLoader\n",
    "from langchain.schema import Document\n",
    "from langchain_community.retrievers import TavilySearchAPIRetriever\n",
    "from langchain_huggingface import HuggingFaceEmbeddings\n",
    "\n",
    "from langgraph.graph import START, END, MessagesState, StateGraph\n",
    "from langgraph.checkpoint.memory import MemorySaver, InMemorySaver\n",
    "from langgraph.graph import START, END, MessagesState, StateGraph\n",
    "from langgraph.checkpoint.memory import InMemorySaver"
   ]
  },
  {
   "cell_type": "markdown",
   "metadata": {},
   "source": [
    "## Init config and API key"
   ]
  },
  {
   "cell_type": "code",
   "execution_count": null,
   "metadata": {},
   "outputs": [],
   "source": [
    "#\n",
    "# key\n",
    "#\n",
    "from dotenv import load_dotenv\n",
    "load_dotenv()\n",
    "\n",
    "deepseek_api_key = os.getenv(\"DEEPSEEK_API_KEY\")\n",
    "silicon_api_key = os.getenv(\"SILICON_API_KEY\")\n",
    "tavily_api_key = os.getenv(\"TAVILY_API_KEY\")\n",
    "linkup_api_key = os.getenv(\"LINKUP_API_KEY\")"
   ]
  },
  {
   "cell_type": "code",
   "execution_count": null,
   "metadata": {},
   "outputs": [],
   "source": [
    "#\n",
    "# config\n",
    "#\n",
    "import tomllib\n",
    "def load_config(config_file):\n",
    "    try:\n",
    "        with open(config_file, 'rb') as f:\n",
    "            config = tomllib.load(f)\n",
    "            return config\n",
    "    except Exception as e:\n",
    "        print(f\"Load config file error: {e}\")\n",
    "        return None\n",
    "\n",
    "# load config file\n",
    "deepseek_llm_model = None\n",
    "silicon_base_url = None\n",
    "silicon_llm_model = None\n",
    "huggingface_embed_model = None\n",
    "\n",
    "config_data = load_config(\"../config/config.toml\")\n",
    "if config_data:\n",
    "    log_level = config_data.get('log_level')\n",
    "    if log_level:\n",
    "        logging.basicConfig(level=log_level)\n",
    "    \n",
    "    # deepseek\n",
    "    deepseek_llm_model = config_data.get('deepseek', {}).get('model')\n",
    "    deepseek_llm_temperature = config_data.get('deepseek', {}).get('temperature')\n",
    "    deepseek_llm_max_tokens = config_data.get('deepseek', {}).get('max_tokens')  \n",
    "\n",
    "    # silicon\n",
    "    silicon_base_url =  config_data.get('silicon', {}).get('base_url')\n",
    "    silicon_llm_model = config_data.get('silicon', {}).get('model')\n",
    "\n",
    "    # huggingface\n",
    "    huggingface_embed_model = config_data.get('huggingface', {}).get('embed_model')\n",
    "\n",
    "\n",
    "# deepseek\n",
    "deepseek_llm_model = deepseek_llm_model or \"deepseek-chat\"\n",
    "\n",
    "# silicon\n",
    "silicon_base_url =  silicon_base_url or \"https://api.siliconflow.cn/v1\"\n",
    "silicon_llm_model = silicon_llm_model or \"deepseek-ai/DeepSeek-R1-Distill-Llama-8B\"\n",
    "\n",
    "# huggingface\n",
    "huggingface_embed_model = huggingface_embed_model or \"sentence-transformers/all-MiniLM-L6-v2\""
   ]
  },
  {
   "cell_type": "markdown",
   "metadata": {},
   "source": [
    "## LLM"
   ]
  },
  {
   "cell_type": "code",
   "execution_count": null,
   "metadata": {},
   "outputs": [],
   "source": [
    "# init silicon LLM mod\n",
    "silicon_llm = ChatOpenAI(\n",
    "    model=silicon_llm_model,\n",
    "    openai_api_key=silicon_api_key,\n",
    "    base_url=silicon_base_url,\n",
    "    temperature=1.2,\n",
    "    max_tokens=2048,\n",
    ")"
   ]
  },
  {
   "cell_type": "code",
   "execution_count": null,
   "metadata": {},
   "outputs": [],
   "source": [
    "# init deepseek LLM mod\n",
    "llm_deepseek = ChatDeepSeek(\n",
    "    model=deepseek_llm_model,\n",
    "    temperature=deepseek_llm_temperature or 0.3,\n",
    "    max_tokens=deepseek_llm_max_tokens,\n",
    "    timeout=None,\n",
    "    top_p=0.9,\n",
    "    frequency_penalty=0.7,\n",
    "    presence_penalty=0.5,\n",
    "    max_retries=3\n",
    ")"
   ]
  },
  {
   "cell_type": "markdown",
   "metadata": {},
   "source": [
    "## TavilySearchAPIRetriever: langgraph node"
   ]
  },
  {
   "cell_type": "code",
   "execution_count": null,
   "metadata": {},
   "outputs": [],
   "source": [
    "web_retriever = TavilySearchAPIRetriever(api_key=tavily_api_key, k=3)\n",
    "\n",
    "question = \"Describe the health benefits of taking vitamins?\"\n",
    "\n",
    "# return Document\n",
    "docs = web_retriever.invoke(question)\n",
    "for doc in docs:\n",
    "    print(\"=== web search ===\")\n",
    "    print(f\"page_content: {doc.page_content}\")\n",
    "    print(f\"metadata: {doc.metadata}\")\n",
    "    print(\"\\n\")"
   ]
  },
  {
   "cell_type": "markdown",
   "metadata": {},
   "source": [
    "## WikipediaRetriever: ?"
   ]
  },
  {
   "cell_type": "code",
   "execution_count": null,
   "metadata": {},
   "outputs": [],
   "source": [
    "from langchain_community.retrievers import WikipediaRetriever\n",
    "\n",
    "wiki_retriever = WikipediaRetriever()\n",
    "\n",
    "question = \"Describe the health benefits of taking vitamins?\"\n",
    "# return Document\n",
    "docs = wiki_retriever.invoke(question)\n",
    "for doc in docs:\n",
    "    print(\"=== Wikipedia search ===\")\n",
    "    print(f\"page_content: {doc.page_content}\")\n",
    "    print(f\"metadata: {doc.metadata}\")\n",
    "    print(\"\\n\")"
   ]
  },
  {
   "cell_type": "markdown",
   "metadata": {},
   "source": [
    "# PubMed: biomedical literature\n",
    "The information content of the query is not suitable for use in general health quiz application scenarios."
   ]
  },
  {
   "cell_type": "code",
   "execution_count": null,
   "metadata": {},
   "outputs": [],
   "source": [
    "!pip install xmltodict"
   ]
  },
  {
   "cell_type": "code",
   "execution_count": null,
   "metadata": {},
   "outputs": [],
   "source": [
    "from langchain_community.retrievers import PubMedRetriever\n",
    "\n",
    "med_retriever = PubMedRetriever()\n",
    "\n",
    "question = \"Describe the health benefits of taking vitamins?\"\n",
    "# return Document\n",
    "docs = med_retriever.invoke(question)\n",
    "for doc in docs:\n",
    "    print(\"=== PubMed search ===\")\n",
    "    print(f\"page_content: {doc.page_content}\")\n",
    "    print(\"\\n\")\n",
    "    print(f\"metadata: {doc.metadata}\")\n",
    "    print(\"\\n\")"
   ]
  },
  {
   "cell_type": "markdown",
   "metadata": {},
   "source": [
    "## TavilySearchResults: do not use it"
   ]
  },
  {
   "cell_type": "code",
   "execution_count": null,
   "metadata": {},
   "outputs": [],
   "source": [
    "# Web search\n",
    "web_search_tool = TavilySearchResults(\n",
    "    api_key = tavily_api_key,\n",
    "    k=3,\n",
    "    #include_domains=[\"wikipedia.org\"],\n",
    "    #search_depth=\"advanced\",\n",
    "    include_answer=True,\n",
    "    #verbose=True\n",
    ")\n",
    "\n",
    "question = \"Describe the health benefits of taking vitamins?\"\n",
    "#docs = web_search_tool.invoke({\"query\": question})\n",
    "docs = web_search_tool.invoke(question)\n",
    "for result in docs:\n",
    "    print(\"=== web search ===\")\n",
    "    print(f\"url: {result['url']}\")\n",
    "    print(f\"content: {result['content']}\")\n",
    "    if \"answer\" in result:\n",
    "        print(f\"answer: {result['answer']}\")\n",
    "    print(\"\\n\")\n",
    "\n",
    "web_results = \"\\n\".join([d[\"content\"] for d in docs])\n",
    "documents = Document(page_content=web_results)\n",
    "print(f\"{documents.page_content}\")\n"
   ]
  },
  {
   "cell_type": "markdown",
   "metadata": {},
   "source": [
    "## RetrievalQA: Tavily"
   ]
  },
  {
   "cell_type": "code",
   "execution_count": null,
   "metadata": {},
   "outputs": [],
   "source": [
    "from langchain.chains import RetrievalQA\n",
    "\n",
    "web_retriever = TavilySearchAPIRetriever(api_key=tavily_api_key, k=3)\n",
    "\n",
    "qa_chain = RetrievalQA.from_chain_type(\n",
    "    llm=llm_deepseek,\n",
    "    retriever=web_retriever,\n",
    "    chain_type=\"stuff\"\n",
    ")\n",
    "\n",
    "question = \"Describe the health benefits of taking vitamins?\"\n",
    "response = qa_chain.invoke(question)\n",
    "#print(response)\n",
    "print(response[\"result\"])"
   ]
  },
  {
   "cell_type": "markdown",
   "metadata": {},
   "source": [
    "## Linkup with langchain"
   ]
  },
  {
   "cell_type": "code",
   "execution_count": null,
   "metadata": {},
   "outputs": [],
   "source": [
    "!pip install -U langchain-linkup"
   ]
  },
  {
   "cell_type": "code",
   "execution_count": null,
   "metadata": {},
   "outputs": [],
   "source": [
    "from langchain_linkup import LinkupSearchRetriever\n",
    "\n",
    "retriever = LinkupSearchRetriever(\n",
    "    depth=\"standard\",  # \"standard\" or \"deep\"\n",
    "    linkup_api_key=linkup_api_key\n",
    ")"
   ]
  },
  {
   "cell_type": "code",
   "execution_count": null,
   "metadata": {},
   "outputs": [],
   "source": [
    "# Perform a search query\n",
    "documents = retriever.invoke(input=\"Describe the health benefits of taking vitamins?\")\n",
    "for doc in documents:\n",
    "    print(\"=== web search ===\")\n",
    "    print(f\"page_content: {doc.page_content}\")\n",
    "    print(f\"metadata: {doc.metadata}\")\n",
    "    print(\"\\n\")"
   ]
  },
  {
   "cell_type": "code",
   "execution_count": null,
   "metadata": {},
   "outputs": [],
   "source": [
    "query: str = \"Describe the health benefits of taking vitamins?\"\n",
    "\n",
    "def format_retrieved_documents(docs: list[Document]) -> str:\n",
    "    \"\"\"Format the documents retrieved by the Linkup API as a text.\"\"\"\n",
    "\n",
    "    return \"\\n\\n\".join(\n",
    "        [\n",
    "            f\"{document.metadata['name']} ({document.metadata['url']}):\\n{document.page_content}\"\n",
    "            for document in docs\n",
    "        ]\n",
    "    )\n",
    "\n",
    "def inspect_context(state: dict[str, Any]) -> dict[str, Any]:\n",
    "    \"\"\"Print the context retrieved by the retriever.\"\"\"\n",
    "    print(f\"Context: {state['context']}\\n\\n\")\n",
    "    return state\n",
    "\n",
    "generation_prompt_template = \"\"\"Answer the question based only on the following context:\n",
    "\n",
    "{context}\n",
    "\n",
    "Question: {question}\n",
    "\"\"\"\n",
    "prompt = ChatPromptTemplate.from_template(generation_prompt_template)\n",
    "\n",
    "chain: Runnable[Any, str] = (\n",
    "    {\"context\": retriever | format_retrieved_documents, \"question\": RunnablePassthrough()}\n",
    "    | RunnableLambda(inspect_context)\n",
    "    | prompt\n",
    "    | llm_deepseek\n",
    "    | StrOutputParser()\n",
    ")\n",
    "response = chain.invoke(input=query)\n",
    "print(f\"Response: {response}\")"
   ]
  }
 ],
 "metadata": {
  "kernelspec": {
   "display_name": "Python 3 (ipykernel)",
   "language": "python",
   "name": "python3"
  },
  "language_info": {
   "codemirror_mode": {
    "name": "ipython",
    "version": 3
   },
   "file_extension": ".py",
   "mimetype": "text/x-python",
   "name": "python",
   "nbconvert_exporter": "python",
   "pygments_lexer": "ipython3",
   "version": "3.12.9"
  }
 },
 "nbformat": 4,
 "nbformat_minor": 4
}
