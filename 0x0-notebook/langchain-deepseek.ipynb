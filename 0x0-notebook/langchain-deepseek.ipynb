{
 "cells": [
  {
   "cell_type": "code",
   "execution_count": null,
   "id": "2f972bc4-5704-4bc6-ba63-471f510ab975",
   "metadata": {
    "scrolled": true
   },
   "outputs": [],
   "source": [
    "import os\n",
    "\n",
    "silicon_api_key = os.getenv(\"SILICON_API_KEY\")\n",
    "silicon_base_url = os.getenv(\"SILICON_BASE_URL\")\n",
    "silicon_llm_model = os.getenv(\"LLM_MODEL_SLIM\")\n",
    "\n",
    "print(f\"key: '{silicon_api_key}'\")\n",
    "print(f\"url: '{silicon_base_url}'\")\n",
    "print(f\"llm: '{silicon_llm_model}'\")"
   ]
  },
  {
   "cell_type": "code",
   "execution_count": null,
   "id": "36020582-59ba-4dde-9adc-99db5adc5127",
   "metadata": {},
   "outputs": [],
   "source": [
    "from langchain_openai import ChatOpenAI\n",
    "from langchain_core.prompts import ChatPromptTemplate\n",
    "\n",
    "# init LLM mod\n",
    "llm = ChatOpenAI(\n",
    "    model=silicon_llm_model,\n",
    "    openai_api_key=silicon_api_key,\n",
    "    base_url=silicon_base_url,\n",
    "    temperature=1.2,\n",
    "    max_tokens=2048,\n",
    ")"
   ]
  },
  {
   "cell_type": "code",
   "execution_count": null,
   "id": "c15aac6c-7054-4895-a374-5b097685ae1c",
   "metadata": {},
   "outputs": [],
   "source": [
    "from langchain_core.messages import BaseMessage, HumanMessage, AIMessage, SystemMessage\n",
    "\n",
    "system_message = SystemMessage(content=\"用户正在咨询关于保健品的信息。要求输出内容不超过100个汉字。用中文输出。\")\n",
    "human_message = HumanMessage(content=\"请描述服用维生素对健康的好处\")\n",
    "\n",
    "messages = [\n",
    "    system_message,\n",
    "    human_message\n",
    "]\n",
    "\n",
    "response = llm.invoke(messages)\n",
    "print(response.content)"
   ]
  },
  {
   "cell_type": "markdown",
   "id": "c6efd8e6-2696-48d7-bd80-8d06e65a6067",
   "metadata": {},
   "source": [
    "## deepseek"
   ]
  },
  {
   "cell_type": "code",
   "execution_count": null,
   "id": "4a5a1bdb-eb04-47ae-b023-ce374b6767b5",
   "metadata": {},
   "outputs": [],
   "source": [
    "pip install -U langchain-deepseek"
   ]
  },
  {
   "cell_type": "code",
   "execution_count": null,
   "id": "66a54c5d-c69d-4247-a101-cbafd3940c8d",
   "metadata": {},
   "outputs": [],
   "source": [
    "deepseek_api_key = os.getenv(\"DEEPSEEK_API_KEY\")\n",
    "deepseek_llm_model = os.getenv(\"LLM_MODEL\")"
   ]
  },
  {
   "cell_type": "code",
   "execution_count": null,
   "id": "ee89e76d-22a4-4d8d-8c1a-dfd16b3e245b",
   "metadata": {},
   "outputs": [],
   "source": [
    "from langchain_deepseek import ChatDeepSeek\n",
    "from langchain_core.prompts import ChatPromptTemplate\n",
    "\n",
    "# init LLM mod\n",
    "llm = ChatDeepSeek(\n",
    "    model=deepseek_llm_model,\n",
    "    temperature=1,\n",
    "    max_tokens=None,\n",
    "    timeout=None,\n",
    "    max_retries=2\n",
    ")"
   ]
  },
  {
   "cell_type": "code",
   "execution_count": null,
   "id": "e894b470-acb7-442a-8345-43af73cb2536",
   "metadata": {},
   "outputs": [],
   "source": [
    "from langchain_core.messages import BaseMessage, HumanMessage, AIMessage, SystemMessage\n",
    "\n",
    "system_message = SystemMessage(content=\"用户正在咨询关于保健品的信息。要求输出内容不超过100个汉字。用中文输出。\")\n",
    "human_message = HumanMessage(content=\"请描述服用维生素对健康的好处\")\n",
    "\n",
    "messages = [\n",
    "    system_message,\n",
    "    human_message\n",
    "]\n",
    "\n",
    "response = llm.invoke(messages)\n",
    "print(response.content)"
   ]
  }
 ],
 "metadata": {
  "kernelspec": {
   "display_name": "Python 3 (ipykernel)",
   "language": "python",
   "name": "python3"
  },
  "language_info": {
   "codemirror_mode": {
    "name": "ipython",
    "version": 3
   },
   "file_extension": ".py",
   "mimetype": "text/x-python",
   "name": "python",
   "nbconvert_exporter": "python",
   "pygments_lexer": "ipython3",
   "version": "3.12.9"
  }
 },
 "nbformat": 4,
 "nbformat_minor": 5
}
