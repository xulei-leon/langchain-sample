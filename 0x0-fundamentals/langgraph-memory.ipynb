{
 "cells": [
  {
   "cell_type": "markdown",
   "id": "c625d182-94ad-4213-b5ca-8e2fc138659e",
   "metadata": {},
   "source": [
    "## lib"
   ]
  },
  {
   "cell_type": "code",
   "execution_count": null,
   "id": "5edbdb7f-2682-42b5-83b9-d8becf75d92c",
   "metadata": {},
   "outputs": [],
   "source": [
    "from typing import Annotated\n",
    "from typing_extensions import TypedDict\n",
    "\n",
    "from langchain import PromptTemplate, LLMChain\n",
    "from langgraph.graph import START, END, MessagesState, StateGraph\n",
    "from langgraph.checkpoint.memory import InMemorySaver\n",
    "#from langgraph.prebuilt import ToolNode, tools_condition\n",
    "from langgraph.checkpoint.memory import MemorySaver"
   ]
  },
  {
   "cell_type": "markdown",
   "id": "154bab2e-c4d9-476d-a122-d4c37884e5d8",
   "metadata": {},
   "source": [
    "## LLM"
   ]
  },
  {
   "cell_type": "code",
   "execution_count": null,
   "id": "f7463240-9b65-4a6c-a0b2-ad5f904f7b4c",
   "metadata": {
    "scrolled": true
   },
   "outputs": [],
   "source": [
    "import os\n",
    "\n",
    "silicon_api_key = os.getenv(\"SILICON_API_KEY\")\n",
    "silicon_base_url = os.getenv(\"SILICON_BASE_URL\")\n",
    "silicon_llm_model = os.getenv(\"LLM_MODEL_SLIM\")\n",
    "\n",
    "from langchain_openai import ChatOpenAI\n",
    "from langchain_core.prompts import ChatPromptTemplate\n",
    "\n",
    "# init LLM mod\n",
    "llm = ChatOpenAI(\n",
    "    model=silicon_llm_model,\n",
    "    openai_api_key=silicon_api_key,\n",
    "    base_url=silicon_base_url,\n",
    "    temperature=1.2,\n",
    "    max_tokens=2048,\n",
    ")"
   ]
  },
  {
   "cell_type": "markdown",
   "id": "ca29c702-83fe-4b72-8cd7-59301922205e",
   "metadata": {},
   "source": [
    "## langgraph"
   ]
  },
  {
   "cell_type": "code",
   "execution_count": null,
   "id": "49df8fbd-af99-4ee3-9e33-4183f4cf64ef",
   "metadata": {},
   "outputs": [],
   "source": [
    "from typing import List, TypedDict\n",
    "\n",
    "class AgentState(MessagesState):\n",
    "    question: str\n",
    "    generation: str\n",
    "    documents: List[str]"
   ]
  },
  {
   "cell_type": "code",
   "execution_count": null,
   "id": "f8c3584e",
   "metadata": {},
   "outputs": [],
   "source": [
    "def call_model(state: AgentState):\n",
    "    print(\"---CALL MODEL---\")\n",
    "    \n",
    "    print(state[\"messages\"])\n",
    "    out_message = {\"role\": \"system\", \"content\": \"this is a respond\"}\n",
    "\n",
    "    return {\"messages\": out_message, \"question\": \"Test question\", \"generation\": \"Test generation\"}\n",
    "\n",
    "\n",
    "builder = StateGraph(AgentState)\n",
    "builder.add_node(\"call_model\", call_model)\n",
    "builder.add_edge(START, \"call_model\")\n"
   ]
  },
  {
   "cell_type": "code",
   "execution_count": null,
   "id": "69002c09",
   "metadata": {},
   "outputs": [],
   "source": [
    "# define memory\n",
    "memory = MemorySaver()\n",
    "graph = builder.compile(checkpointer=memory)"
   ]
  },
  {
   "cell_type": "code",
   "execution_count": null,
   "id": "1cfee4a1-4651-433b-82c6-8b5c456d27b0",
   "metadata": {},
   "outputs": [],
   "source": [
    "from langchain_core.messages import BaseMessage, HumanMessage, AIMessage, SystemMessage"
   ]
  },
  {
   "cell_type": "code",
   "execution_count": null,
   "id": "30177de2",
   "metadata": {},
   "outputs": [],
   "source": [
    "thread_id = \"chat-memory-test\"\n",
    "config = {\"configurable\": {\"thread_id\": thread_id}}\n",
    "user_input = \"hello\"\n",
    "input_message = HumanMessage(content=user_input)\n",
    "for chunk in graph.stream({\"messages\": [input_message]}, config, stream_mode=\"values\"):\n",
    "    print(\"\\n\")\n",
    "    print(\"---message---\")\n",
    "    for message in chunk[\"messages\"]:\n",
    "        message.pretty_print()"
   ]
  },
  {
   "cell_type": "code",
   "execution_count": null,
   "id": "55ed8533-37af-473e-80c7-3c830bb4fe0f",
   "metadata": {},
   "outputs": [],
   "source": []
  }
 ],
 "metadata": {
  "kernelspec": {
   "display_name": "Python 3 (ipykernel)",
   "language": "python",
   "name": "python3"
  },
  "language_info": {
   "codemirror_mode": {
    "name": "ipython",
    "version": 3
   },
   "file_extension": ".py",
   "mimetype": "text/x-python",
   "name": "python",
   "nbconvert_exporter": "python",
   "pygments_lexer": "ipython3",
   "version": "3.12.9"
  }
 },
 "nbformat": 4,
 "nbformat_minor": 5
}
